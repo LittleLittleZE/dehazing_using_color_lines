{
 "cells": [
  {
   "cell_type": "markdown",
   "metadata": {},
   "source": [
    "## Unimodality\n",
    "In this notebook we explore the unimodality test. It is slightly less straightforward than the other tests; this notebook should therefore serve as supplementary explanation to the functions docstring.\n",
    "\n",
    "\n",
    "In Fattal's paper, there are 7 tests that a color-line must pass to be considered valid. One of the these is the unimodality test. The unimodality test checks whether the color-line is not an average of two two seperate color-lines. In other words, it checks whether the color-line's image patch does not contain two or more surfaces that give rise to seperate color-lines that appear to support a single color-line.\n",
    "### How does the test work? \n",
    "If different surfaces gave rise to a color-line, we would expect to see clusters of RGB points in different regions of the line. If we consider the line to be an axis along which we can plot the projected RGB point density, multiple clusters would mean a multimodal distribution (a distribution with multiple peaks).\n",
    "    \n",
    "The test works by asserting that there is a single peak. The distribution of the supporting points projected onto the colorline is normalized to some scale, in this case $[0, \\pi]$, and the cosine is taken of each point.\n",
    "Because of the shape of the cosine, the sum over all points vanishes over uniformly distributed pixels and becomes positive when the pixels are concentrated near the endpoints.\n",
    "\n",
    "### Formula \n",
    "\n",
    "$$\\frac{1}{|\\Omega|}\\sum_{x \\in \\Omega}cos(\\alpha \\langle I(x) - V, D\\rangle + b)$$   \n",
    "$a, b$ = Values for scaling the distribution to range $[0, \\pi]$  \n",
    "$|\\Omega|$ = The number of pixels in the image patch \n",
    "$V$ = T\n"
   ]
  },
  {
   "cell_type": "markdown",
   "metadata": {},
   "source": [
    "# Shape of cosine $[0, \\pi]$"
   ]
  },
  {
   "cell_type": "code",
   "execution_count": 1,
   "metadata": {},
   "outputs": [
    {
     "data": {
      "text/plain": [
       "[<matplotlib.lines.Line2D at 0x1197c8090>]"
      ]
     },
     "execution_count": 1,
     "metadata": {},
     "output_type": "execute_result"
    },
    {
     "data": {
      "image/png": "[encoded data removed]",
      "text/plain": [
       "<Figure size 432x288 with 1 Axes>"
      ]
     },
     "metadata": {
      "needs_background": "light"
     },
     "output_type": "display_data"
    }
   ],
   "source": [
    "import matplotlib.pyplot as plt\n",
    "import seaborn as sns\n",
    "import numpy as np \n",
    "\n",
    "nr_samples = 10000\n",
    "x = np.linspace(0, np.pi, nr_samples)\n",
    "y = np.cos(x)\n",
    "\n",
    "plt.plot(x, y)"
   ]
  },
  {
   "cell_type": "markdown",
   "metadata": {},
   "source": [
    "# Unimodality Score Formula"
   ]
  },
  {
   "cell_type": "code",
   "execution_count": 2,
   "metadata": {},
   "outputs": [],
   "source": [
    "def unimodality_score(samples):\n",
    "    nr_samples = len(samples)\n",
    "    score = np.sum(np.cos(samples)) / nr_samples\n",
    "    score = abs(score)\n",
    "    return score"
   ]
  },
  {
   "cell_type": "markdown",
   "metadata": {},
   "source": [
    "# Distribution scores"
   ]
  },
  {
   "cell_type": "code",
   "execution_count": 9,
   "metadata": {},
   "outputs": [
    {
     "name": "stdout",
     "output_type": "stream",
     "text": [
      "Uniform score: 0.00524\n",
      "passed threshold: True\n",
      "\n",
      "Gaussian score: 0.00297\n",
      "passed threshold: True\n",
      "\n",
      "Chi-squared score: 0.34749\n",
      "passed threshold: False\n",
      "\n",
      "Bimodal score: 0.26969\n",
      "passed threshold: False\n",
      "\n"
     ]
    }
   ],
   "source": [
    "def display_score(dist, name):\n",
    "    threshold = 0.07\n",
    "    score = unimodality_score(dist)\n",
    "    print('{} score: {:.5f}'.format(name, score))\n",
    "    print('passed threshold: {}\\n'.format(score < threshold))\n",
    "    \n",
    "uniform = np.random.uniform(low=0, high=np.pi, size=nr_samples)\n",
    "gaussian = np.random.normal(loc=np.pi/2, scale=1, size=nr_samples)\n",
    "chi2 = np.random.chisquare(df=np.pi/2, size=nr_samples)\n",
    "bimodal = np.concatenate((np.random.normal(np.pi/8,0.1,nr_samples), np.random.normal(np.pi/8*5,0.1,nr_samples)))\n",
    "\n",
    "dists = [(uniform,'Uniform'), (gaussian,'Gaussian'), \n",
    "         (chi2,'Chi-squared'), (bimodal,'Bimodal')]\n",
    "\n",
    "for dist, name in dists:\n",
    "    display_score(dist, name)"
   ]
  },
  {
   "cell_type": "markdown",
   "metadata": {},
   "source": [
    "# Flaws: Biomodal dist mirrored on $\\pi/2$\n",
    "In the case of a bimodal distribution mirron on the point $\\pi/2$, the test will still pass."
   ]
  },
  {
   "cell_type": "code",
   "execution_count": 15,
   "metadata": {},
   "outputs": [
    {
     "name": "stdout",
     "output_type": "stream",
     "text": [
      "Score: 0.00026\n",
      "Passed threshold: True\n",
      "\n"
     ]
    },
    {
     "data": {
      "image/png": "[encoded data removed]",
      "text/plain": [
       "<Figure size 432x288 with 1 Axes>"
      ]
     },
     "metadata": {
      "needs_background": "light"
     },
     "output_type": "display_data"
    }
   ],
   "source": [
    "bimodal = np.concatenate((np.random.normal(np.pi/8,0.1,nr_samples), np.random.normal(np.pi/8*7,0.1,nr_samples)))\n",
    "\n",
    "sns.distplot(bimodal)\n",
    "\n",
    "threshold = 0.07\n",
    "score = unimodality_score(bimodal)\n",
    "print('Score: {:.5f}'.format(score))\n",
    "print('Passed threshold: {}\\n'.format(score < threshold))"
   ]
  },
  {
   "cell_type": "code",
   "execution_count": null,
   "metadata": {},
   "outputs": [],
   "source": []
  }
 ],
 "metadata": {
  "kernelspec": {
   "display_name": "Python 3",
   "language": "python",
   "name": "python3"
  },
  "language_info": {
   "codemirror_mode": {
    "name": "ipython",
    "version": 3
   },
   "file_extension": ".py",
   "mimetype": "text/x-python",
   "name": "python",
   "nbconvert_exporter": "python",
   "pygments_lexer": "ipython3",
   "version": "3.7.5"
  }
 },
 "nbformat": 4,
 "nbformat_minor": 4
}
