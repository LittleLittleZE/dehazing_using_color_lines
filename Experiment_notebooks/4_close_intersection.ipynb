{
 "cells": [
  {
   "cell_type": "markdown",
   "metadata": {},
   "source": [
    "# Close intersection"
   ]
  },
  {
   "cell_type": "markdown",
   "metadata": {},
   "source": [
    "In this notebook we explore the close intersection test. This notebook should therefore serve as supplementary explanation to the functions docstring.\n",
    "\n",
    "The Close intersection test checks whether the airlight line and color-line intersect. While two arbitrary lines in three-dimensional space do not necessarily intersect, the lines predicted by Fattal's color-line model are expected to do so. This makes sense, as the airlight line should raise the color-line away from the origin. Thus we expect the airlight to be a component of the color-line and therefore to intersect with it. \n",
    "\n",
    "The problem can be solved in several ways, we'll be using algorithms described in [Dan Sundays geometric algorithms website](http://geomalgorithms.com/a07-_distance.html) and [a video tutorial by DLBmaths](https://www.youtube.com/watch?v=HC5YikQxwZA). \n",
    "\n"
   ]
  },
  {
   "cell_type": "markdown",
   "metadata": {},
   "source": [
    "# Distance between lines"
   ]
  },
  {
   "cell_type": "markdown",
   "metadata": {},
   "source": [
    "The Euclidean distance between any two geometric objects is defined as the minimum distance between any two of their points.  That is, for two geometric objects $G_{1}$ and $G_{2}$, the distance between them is defined as:\n",
    "\n",
    "$$d(G_{1}, G_{2}) = \\min_{P \\in G_{1},  Q \\in G_{2}}d(P,Q) $$\n",
    "\n",
    "Thus our goal is to devise a method to find these points $P$ and $Q$. \n"
   ]
  },
  {
   "cell_type": "code",
   "execution_count": null,
   "metadata": {},
   "outputs": [],
   "source": []
  }
 ],
 "metadata": {
  "kernelspec": {
   "display_name": "Python 3",
   "language": "python",
   "name": "python3"
  },
  "language_info": {
   "codemirror_mode": {
    "name": "ipython",
    "version": 3
   },
   "file_extension": ".py",
   "mimetype": "text/x-python",
   "name": "python",
   "nbconvert_exporter": "python",
   "pygments_lexer": "ipython3",
   "version": "3.7.5"
  }
 },
 "nbformat": 4,
 "nbformat_minor": 4
}
