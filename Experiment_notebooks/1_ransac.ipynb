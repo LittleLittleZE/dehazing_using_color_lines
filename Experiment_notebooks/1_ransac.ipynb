{
 "cells": [
  {
   "cell_type": "markdown",
   "metadata": {},
   "source": [
    "# Ransac\n",
    "We will explore color-line estimation by using ransac (Random sample consensus). Ransac uses multiple iteration to estimate the line that fits the data best. For each iteration, a random pair of 2 pixels is used to estimating a line; all other pixels are used to judge this \"hypothesis\" line. The line that supports the most pixels is considered the color-line. "
   ]
  },
  {
   "cell_type": "markdown",
   "metadata": {},
   "source": [
    "## Ransac Algorithm"
   ]
  },
  {
   "cell_type": "code",
   "execution_count": 1,
   "metadata": {},
   "outputs": [],
   "source": [
    "from matplotlib import pyplot as plt\n",
    "from mpl_toolkits.mplot3d import Axes3D\n",
    "from random import randint\n",
    "import random\n",
    "import numpy as np\n",
    "import cv2\n",
    "import os\n",
    "random.seed(2)\n",
    "np.random.seed(2)\n",
    "\n",
    "\n",
    "def choice(array, size, replace):\n",
    "    \"\"\" Returns a sample of a certain size for a numpy array. \"\"\"\n",
    "    indices = np.random.choice(len(array), size=size, replace=replace)\n",
    "    sample = array[indices]\n",
    "    return sample\n",
    "\n",
    "\n",
    "\n",
    "def ransac(patch, iterations, threshold):\n",
    "    \"\"\"Returns the color-line in vector form.\n",
    "\n",
    "    Iterates over pairs of 2 pixels. Each pixel pair is considered as a\n",
    "    line hypothesis. A certain number (`iterations`) of hypotheses are\n",
    "    considered. The line that fits the most pixels is returned in\n",
    "    vector form.\n",
    "\n",
    "    Args:\n",
    "        patch (3D numpy array): A square patch of an image.\n",
    "        iterations (int): The number of color-lines that are tested.\n",
    "        threshold (float): The distance threshold between the hypothesis line\n",
    "        and point, for the line to be considered a good fit.\n",
    "    Returns:\n",
    "        point (3D numpy array): A vector representing a point on the color-line.\n",
    "        direction (3D numpy array): The color-lines direction vector.\n",
    "        best_support (int): The number of points that support the best color-line.\n",
    "    \"\"\"\n",
    "    best_support = 0\n",
    "    direction = None\n",
    "    point = None\n",
    "    patch = np.reshape(patch, (-1, 3))\n",
    "\n",
    "    for idx in range(iterations):\n",
    "        v1, v2 = choice(patch, size=2, replace='False')\n",
    "        d1 = v2 - v1\n",
    "        support = 0\n",
    "\n",
    "        for pixel in patch:\n",
    "            d2 = pixel - v1\n",
    "            dist = distance(d1, d2)\n",
    "\n",
    "            if dist < threshold:\n",
    "                support += 1\n",
    "\n",
    "        if support > best_support:\n",
    "            point = v1\n",
    "            direction = d1\n",
    "            best_support = support\n",
    "    return point, direction, best_support"
   ]
  },
  {
   "cell_type": "markdown",
   "metadata": {},
   "source": [
    "## Distance Metric"
   ]
  },
  {
   "cell_type": "code",
   "execution_count": 2,
   "metadata": {},
   "outputs": [],
   "source": [
    "def distance(d1, d2):\n",
    "    \"\"\" Returns the distance metric for two direction vectors.\n",
    "\n",
    "    The distance metric determines whether a color-line fits\n",
    "    a pixel. Fattal defines this distance metric as the projection\n",
    "    of a pixels direction vector onto the plane that is perpendicular\n",
    "    to the color-lines direction vector.\n",
    "\n",
    "    Args:\n",
    "        d1: A color-line direction vector.\n",
    "        d2: A direction vector.\n",
    "    Returns:\n",
    "        dist: The distance metric.\n",
    "    \"\"\"\n",
    "    projection_onto_plane = d2 - projection(d1, d2)\n",
    "    dist = np.linalg.norm(projection_onto_plane)\n",
    "\n",
    "    return dist\n",
    "\n",
    "\n",
    "def projection(v1, v2):\n",
    "    \"\"\" Returns the projection of v2 onto v1.\n",
    "\n",
    "    Args:\n",
    "        v1: A vector that is projected onto.\n",
    "        v2: A vector that is projected.\n",
    "    Returns:\n",
    "        result: A vector projection.\n",
    "    \"\"\"\n",
    "    result = (np.dot(v1, v2) / np.dot(v1, v1)) * v1\n",
    "    return result"
   ]
  },
  {
   "cell_type": "markdown",
   "metadata": {},
   "source": [
    "# Plotting function"
   ]
  },
  {
   "cell_type": "code",
   "execution_count": 3,
   "metadata": {},
   "outputs": [],
   "source": [
    "def setup_3d_plot(): \n",
    "    fig = plt.figure()\n",
    "    ax = fig.add_subplot(111, projection='3d')\n",
    "    return fig, ax\n",
    "\n",
    "def plot_vector(origin, target, plt_axis):\n",
    "    vlength = np.linalg.norm(target)\n",
    "    ax.quiver(origin[0], origin[1], origin[2],\n",
    "              target[0],target[1],target[2],pivot='tail',\n",
    "              arrow_length_ratio=0.3/vlength)"
   ]
  },
  {
   "cell_type": "markdown",
   "metadata": {},
   "source": [
    "## Apply Ransac to Image Patch"
   ]
  },
  {
   "cell_type": "code",
   "execution_count": 4,
   "metadata": {},
   "outputs": [
    {
     "name": "stderr",
     "output_type": "stream",
     "text": [
      "/usr/local/lib/python3.7/site-packages/ipykernel_launcher.py:30: RuntimeWarning: invalid value encountered in double_scalars\n"
     ]
    }
   ],
   "source": [
    "img = cv2.imread(os.path.join('images', 'plant.jpg'))\n",
    "img = img / 255\n",
    "height, width, _ = img.shape\n",
    "\n",
    "patch_size =  7\n",
    "patch_y = randint(0, height - patch_size)\n",
    "patch_x = randint(0, width - patch_size)\n",
    "\n",
    "patch = img[patch_y:patch_y + patch_size,\n",
    "            patch_x:patch_x + patch_size, :]\n",
    "\n",
    "direction, point, _ = ransac(patch,\n",
    "                             iterations=300,\n",
    "                             threshold=0.02)"
   ]
  },
  {
   "cell_type": "markdown",
   "metadata": {},
   "source": [
    "## Plot Color-line anbd Pixels  "
   ]
  },
  {
   "cell_type": "code",
   "execution_count": 5,
   "metadata": {},
   "outputs": [
    {
     "data": {
      "image/png": "[encoded data removed]",
      "text/plain": [
       "<Figure size 360x360 with 1 Axes>"
      ]
     },
     "metadata": {
      "needs_background": "light"
     },
     "output_type": "display_data"
    }
   ],
   "source": [
    "b, g, r = np.split(patch, 3, axis=2)\n",
    "fig = plt.figure(figsize=(5, 5))\n",
    "ax = plt.axes(projection='3d')\n",
    "ax.scatter(b, g, r)\n",
    "origin = np.array([0, 0, 0])\n",
    "plot_vector(origin, direction*2, ax)\n",
    "plt.show()"
   ]
  },
  {
   "cell_type": "code",
   "execution_count": null,
   "metadata": {},
   "outputs": [],
   "source": []
  }
 ],
 "metadata": {
  "kernelspec": {
   "display_name": "Python 3",
   "language": "python",
   "name": "python3"
  },
  "language_info": {
   "codemirror_mode": {
    "name": "ipython",
    "version": 3
   },
   "file_extension": ".py",
   "mimetype": "text/x-python",
   "name": "python",
   "nbconvert_exporter": "python",
   "pygments_lexer": "ipython3",
   "version": "3.7.5"
  }
 },
 "nbformat": 4,
 "nbformat_minor": 4
}
