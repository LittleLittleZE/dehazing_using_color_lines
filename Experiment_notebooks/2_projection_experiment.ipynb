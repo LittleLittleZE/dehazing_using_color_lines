{
 "cells": [
  {
   "cell_type": "markdown",
   "metadata": {},
   "source": [
    "# Projection Experiment\n",
    "In the open source implementation of [dehazing with color lines by Tomlk](https://github.com/Tomlk/Dehazing-with-Color-Lines), the distance metric that is used during ransac is different from the metric mentioned in [Fattal paper](https://www.cse.huji.ac.il/~raananf/projects/dehaze_cl/). We will explore the validty of this alternative form. \n",
    "\n",
    "\n",
    "## Fattal's Formula\n",
    "Fattal paper's defines the similarity metric (distance) between two  direction as follows (paraphrased): \n",
    "\n",
    "$D = I(x_2) - I(x_1)$ - Direction vector of the color line.   \n",
    "$V = I(x_1)$ - Point on the color line.  \n",
    "$\\Omega$ - The set of pixels in an image patch\n",
    "\n",
    "Each line is associted with pixels $x \\in \\Omega$ that support it, i.e., pixels in which $I(x)$ is sufficiently close to the line. **This is measured by projecting $I(x) - V$ onto the plane perpendicular to $D$ and computing the norm of the projected vector.** In our implementation we associate a pixel with the line if the norm falls below $2 \\times 10^{-2}$.\n",
    "\n",
    "Let $\\hat{D} = I(x) - V$.    \n",
    "Fattal's formula can be written as: \n",
    "\n",
    "$$Distance = ||\\hat{D}-\\frac{\\hat{D}\\cdot D}{||D||^{2}}D||$$  \n",
    "The projection onto the plane is calculated as $\\hat{D}$ minus its component that is not orthogonal to $D$.\n",
    "$$ $$\n",
    "\n",
    "\n",
    "## Tomlk's Formula\n",
    "The formula used in Tomlk's implementation can be written as: \n",
    " \n",
    "$$||\\frac{D\\times\\hat{D}}{||D||}||$$  \n",
    "  \n",
    "No further explanation is provided, so we will have to figure it out ourselves. Intuitively, the fraction makes sense as the norm of the cross product will increase when the angle between $D$ and $\\hat{D}$ is larger (the norm of the cross product equals the [area of the parallelogram](https://en.wikipedia.org/wiki/Cross_product)). The denominator $||D||$ may possibly be a scalar that removes any effect the magnitude of $D$ may have (thereby treating it as a unit vector). Before proving the equality of these formulas, we can test them to rule out some obvious counter examples."
   ]
  },
  {
   "cell_type": "code",
   "execution_count": 2,
   "metadata": {},
   "outputs": [
    {
     "name": "stdout",
     "output_type": "stream",
     "text": [
      "The largest difference is equal to : 2.2737367544323206e-13\n"
     ]
    }
   ],
   "source": [
    "import numpy as np \n",
    "np.random.seed(2)\n",
    "\n",
    "def explicit_project(vec1, vec2): \n",
    "    \"\"\" Returns length of projection of vec2 onto a plane perpendicular to vec1. \n",
    "        Fattal's Formula.\n",
    "    \"\"\"\n",
    "    dot = np.dot(vec2, vec1)\n",
    "    squared_norm = np.linalg.norm(vec1)**2\n",
    "    proj_onto_vec1 = (dot / squared_norm) * vec1\n",
    "    proj_onto_plane = vec2 - proj_onto_vec1\n",
    "    result = np.linalg.norm(proj_onto_plane)\n",
    "    result = abs(result)\n",
    "    return result\n",
    "\n",
    "def implicit_project(vec1, vec2):\n",
    "    \"\"\" Returns the length of the cross project scaled to the lenght of vec1.\n",
    "        Tomlk's Formula. \n",
    "    \"\"\"\n",
    "    cross_product = np.cross(vec1, vec2)\n",
    "    norm = np.linalg.norm(vec1)\n",
    "    scaled_cross_product = cross_product / norm \n",
    "    result = np.linalg.norm(scaled_cross_product)\n",
    "    result = abs(result)\n",
    "    return result    \n",
    "\n",
    "differences = list()\n",
    "for i in range(1000):\n",
    "    v1 = np.random.rand(3)\n",
    "    v2 = np.random.rand(3)\n",
    "    # Randomly scale random vectors\n",
    "    v1 = v1 * np.random.randint(1000)\n",
    "    v2 = v2 * np.random.randint(1000)\n",
    "    explicit = explicit_project(v1, v2)\n",
    "    implicit = implicit_project(v1, v2)\n",
    "    difference = explicit - implicit\n",
    "    differences.append(difference)\n",
    "    \n",
    "differences = np.array(differences)\n",
    "print('The largest difference is equal to : {}'.format(differences.max()))\n",
    "# The largest difference is equal to : 2.2737367544323206e-13"
   ]
  },
  {
   "cell_type": "markdown",
   "metadata": {},
   "source": [
    "Such a small difference over so many samples is a good sign. Now let's prove the equality."
   ]
  },
  {
   "cell_type": "markdown",
   "metadata": {},
   "source": [
    "## Equality proof"
   ]
  },
  {
   "cell_type": "markdown",
   "metadata": {},
   "source": [
    "$$||\\hat{D}-\\frac{\\hat{D}\\cdot D}{||D||^{2}}D|| = ||\\frac{D\\times\\hat{D}}{||D||}||$$  \n",
    "$$||\\hat{D}-proj_{D}\\hat{D}|| = ||\\frac{D\\times\\hat{D}}{||D||}|| $$"
   ]
  },
  {
   "cell_type": "markdown",
   "metadata": {},
   "source": [
    "Given the propetry $||\\frac{\\vec{1}}{x}|| = \\frac{||\\vec{1}||}{x}$"
   ]
  },
  {
   "cell_type": "markdown",
   "metadata": {},
   "source": [
    "$$ = \\frac{||D \\times \\hat{D}||}{||D||} $$ "
   ]
  },
  {
   "cell_type": "markdown",
   "metadata": {},
   "source": [
    "Given the property $||a\\times b|| = ||a||\\hspace{0.1cm}||b||sin(\\theta)$"
   ]
  },
  {
   "cell_type": "markdown",
   "metadata": {},
   "source": [
    "$$ = \\frac{||D||\\hspace{0.1cm}||\\hat{D}||sin(\\theta)}{||D||}$$  "
   ]
  },
  {
   "cell_type": "markdown",
   "metadata": {},
   "source": [
    "$$= ||\\hat{D}||sin(\\theta)$$  "
   ]
  },
  {
   "cell_type": "markdown",
   "metadata": {},
   "source": [
    "Now if we draw $D$, $\\hat{D}$, $P = proj_{D}\\hat{D}$, and $W = \\hat{D}-P$$ we have:    \n",
    "<div style=\"text-align:center\">\n",
    "<img src=\"images/plot.png\"\n",
    "     style=\"width: 400; height: 400px; align:center;\" />\n",
    "</div>\n"
   ]
  },
  {
   "cell_type": "markdown",
   "metadata": {},
   "source": [
    "We see the vectors draw compose a right triangle :     \n",
    "With a hypotenuse of length $||\\hat{D}||$   \n",
    "Two legs of length $||P|| = ||proj_{D}\\hat{D}||$   \n",
    "and  $||W|| = ||\\hat{D}-proj_{D}\\hat{D}||$  "
   ]
  },
  {
   "cell_type": "markdown",
   "metadata": {},
   "source": [
    "Let us consider the trigonometric definition of sin.    \n",
    " \n",
    " \n",
    "<div style=\"text-align:center\">\n",
    "<img src=\"images/sine.png\"\n",
    "     style=\"width: 350; height: 350px; align:center;\" />\n",
    "</div>"
   ]
  },
  {
   "cell_type": "markdown",
   "metadata": {},
   "source": [
    "This means that \n",
    "\\begin{align}\n",
    "sin(\\theta) &= \\frac{||W||}{||\\hat{D}||} \\newline \\newline\n",
    "&= \\frac{||\\hat{D}-proj_{D}\\hat{D}||}{||\\hat{D}||}\n",
    "\\end{align}"
   ]
  },
  {
   "cell_type": "markdown",
   "metadata": {},
   "source": [
    "Now we all necessary steps to complete the proof: \n",
    "\n",
    "\\begin{align}\n",
    "||\\hat{D}-proj_{D}\\hat{D}|| &= ||\\frac{D\\times\\hat{D}}{||D||}||\\newline  \\newline\n",
    " &= \\frac{||D \\times \\hat{D}||}{||D||} \\newline  \\newline\n",
    " &= \\frac{||D||\\hspace{0.1cm}||\\hat{D}||sin(\\theta)}{||D||} \\newline  \\newline\n",
    " &= ||\\hat{D}||sin(\\theta) \\newline \\newline\n",
    " &= ||\\hat{D}|| \\frac{||\\hat{D}-proj_{D}\\hat{D}||}{||\\hat{D}||} \\newline \\newline\n",
    " &= ||\\hat{D}-proj_{D}\\hat{D}|| \\newline \\newline\n",
    " ||\\hat{D}-proj_{D}\\hat{D}|| &= ||\\hat{D}-proj_{D}\\hat{D}||\n",
    "\\end{align}\n",
    "   \n",
    "$$ True $$\n"
   ]
  }
 ],
 "metadata": {
  "kernelspec": {
   "display_name": "Python 3",
   "language": "python",
   "name": "python3"
  },
  "language_info": {
   "codemirror_mode": {
    "name": "ipython",
    "version": 3
   },
   "file_extension": ".py",
   "mimetype": "text/x-python",
   "name": "python",
   "nbconvert_exporter": "python",
   "pygments_lexer": "ipython3",
   "version": "3.7.5"
  }
 },
 "nbformat": 4,
 "nbformat_minor": 4
}
